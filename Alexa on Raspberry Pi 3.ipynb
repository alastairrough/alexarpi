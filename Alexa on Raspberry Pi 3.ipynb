{
 "cells": [
  {
   "cell_type": "markdown",
   "metadata": {},
   "source": [
    "# Alexa on Raspberry Pi 3\n",
    "\n",
    "## Emulating an Echo device\n",
    "### AlexaPi"
   ]
  },
  {
   "cell_type": "code",
   "execution_count": null,
   "metadata": {},
   "outputs": [],
   "source": [
    "sudo systemctl start AlexaPi.service\n",
    "sudo systemctl status AlexaPi.service\n",
    "sudo systemctl stop AlexaPi.service"
   ]
  },
  {
   "cell_type": "markdown",
   "metadata": {},
   "source": [
    "### AVS Sample App\n",
    "- Implemented in Java\n",
    "- To be retired 2018\n",
    "\n",
    "### AVS SDK Sample App\n",
    "- Implemented in C++\n",
    "- Replaces Java implementation\n",
    "\n",
    "## Adding an Alexa Skill\n",
    "\n",
    "### Using Amazon Developer Workflow"
   ]
  },
  {
   "cell_type": "markdown",
   "metadata": {},
   "source": [
    "### Using Alexa Skills Kit\n",
    "1. Install and configure AWS CLI (Python)\n",
    "2. Install and configure ASK CLI (Node.JS)\n",
    "\n"
   ]
  },
  {
   "cell_type": "code",
   "execution_count": null,
   "metadata": {},
   "outputs": [],
   "source": [
    "# install AWS CLI\n",
    "pip install awscli --upgrade --user\n",
    "pip3 install awscli --upgrade --user\n",
    "aws --version\n",
    "chmod +x ~/.local/bin/aws\n",
    "aws --version\n",
    "export PATH=~/.local/bin:$PATH\n",
    "aws --version\n",
    "\n",
    "# install ASK CLI: Needs a browser for authentication or use --no-brower option\n",
    "sudo npm install -g ask-cli\n",
    "\n",
    "more /home/alastair/.ask/cli_config\n",
    "ls /home/alastair/.ask/\n",
    "ask --help\n",
    "\n",
    "ask init -l\n",
    "ask init -p profile_2\n",
    "ask deploy -p profile_2\n",
    "ask simulate --text \"Alexa, ask Space Facts\" --locale en-US --skill-id amzn1.ask.skill.195f21da-e1a8-471e-8ef4-c5059c5af1b3\n",
    "ask api list-vendors\n",
    "ask api list-vendors --debug\n"
   ]
  },
  {
   "cell_type": "markdown",
   "metadata": {},
   "source": [
    "testing \n",
    "- Sechelt Information https://developer.amazon.com/edw/home.html#/skill/amzn1.ask.skill.4c3fbe71-336e-448b-8c31-7cb8282df7df/en_CA/testing\n",
    "- Space Facts https://developer.amazon.com/edw/home.html#/skill/amzn1.ask.skill.195f21da-e1a8-471e-8ef4-c5059c5af1b3/en_US/testing"
   ]
  },
  {
   "cell_type": "markdown",
   "metadata": {},
   "source": [
    "## Emulating Wemo using FauxMo"
   ]
  },
  {
   "cell_type": "markdown",
   "metadata": {},
   "source": [
    "## Further References"
   ]
  },
  {
   "cell_type": "code",
   "execution_count": null,
   "metadata": {},
   "outputs": [],
   "source": [
    "sudo git clone https://github.com/alexa/alexa-cookbook.git"
   ]
  }
 ],
 "metadata": {
  "kernelspec": {
   "display_name": "MetaKernel Bash",
   "language": "bash",
   "name": "metakernel_bash"
  },
  "language_info": {
   "file_extension": ".sh",
   "help_links": [
    {
     "text": "MetaKernel Magics",
     "url": "https://github.com/calysto/metakernel/blob/master/metakernel/magics/README.md"
    }
   ],
   "mimetype": "text/x-bash",
   "name": "bash"
  }
 },
 "nbformat": 4,
 "nbformat_minor": 2
}
