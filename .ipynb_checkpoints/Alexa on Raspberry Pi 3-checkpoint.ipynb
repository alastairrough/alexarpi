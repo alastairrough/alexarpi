{
 "cells": [
  {
   "cell_type": "markdown",
   "metadata": {},
   "source": [
    "# Alexa on Raspberry Pi 3\n",
    "1. Emulating an Echo device using Alexa Voice Service\n",
    "    1. AlexaPi\n",
    "    2. AVS Sample App\n",
    "    3. AVS SDK App\n",
    "2. Adding Alexa Skills using Alexa Skill Kit\n",
    "\n",
    "## Emulating an Echo device\n",
    "### AlexaPi\n",
    "References:\n",
    "- All Alexa Dashboard https://developer.amazon.com/edw/home.html#/ \n",
    "- AVS Dashboard https://developer.amazon.com/avs/home.html#/avs/home \n",
    "- ASK Dashboard https://developer.amazon.com/edw/home.html#/skills\n",
    "- AWS Dashboard https://console.aws.amazon.com/console/home?region=us-east-1\n",
    "- MagPi Issue 66 https://www.raspberrypi.org/magpi-issues/MagPi66.pdf\n",
    "- Code https://github.com/alexa-pi/AlexaPi \n",
    "- Installation https://github.com/alexa-pi/AlexaPi/wiki/Installation \n",
    "- Voice Commands https://www.cnet.com/how-to/amazon-echo-the-complete-list-of-alexa-commands/"
   ]
  },
  {
   "cell_type": "code",
   "execution_count": null,
   "metadata": {},
   "outputs": [],
   "source": [
    "# Install\n",
    "sudo git clone https://github.com/alexa-pi/AlexaPi.git\n",
    "sudo ./AlexaPi/src/scripts/setup.sh\n",
    "# Run: reboot your machine or start AlexaPi with following. Service starts on boot by default\n",
    "sudo systemctl start AlexaPi.service\n",
    "sudo systemctl status AlexaPi.service\n",
    "sudo systemctl stop AlexaPi.service"
   ]
  },
  {
   "cell_type": "markdown",
   "metadata": {},
   "source": [
    "### AVS Sample App\n",
    "References:\n",
    "- All Alexa Dashboard https://developer.amazon.com/edw/home.html#/ \n",
    "- ASK Dashboard https://developer.amazon.com/edw/home.html#/skills\n",
    "- AWS Dashboard https://console.aws.amazon.com/console/home?region=us-east-1\n",
    "- https://github.com/alexa/alexa-avs-sample-app/wiki/Create-Security-Profile\n",
    "- https://github.com/alexa/alexa-avs-sample-app/wiki/Raspberry-Pi\n",
    "- https://lifehacker.com/how-to-build-your-own-amazon-echo-with-a-raspberry-pi-1787726931\n",
    "\n",
    "- Implemented in Java\n",
    "- Retired January 25, 2018\n",
    "\n",
    "Install: See references\n",
    "\n",
    "Run: open 3 terminals:"
   ]
  },
  {
   "cell_type": "code",
   "execution_count": null,
   "metadata": {},
   "outputs": [],
   "source": [
    "# Terminal 1: to invoke the web service which is used to authorize your sample app with AVS:\n",
    "cd ~/Desktop/alexa-avs-sample-app/samples\n",
    "cd companionService && npm start\n",
    "\n",
    "# Terminal 2: to run the sample app, which communicates with AVS:\n",
    "cd ~/Desktop/alexa-avs-sample-app/samples\n",
    "cd javaclient && mvn exec:exec\n",
    "# See futher instructions in references\n",
    "\n",
    "# Terminal Window 3 : \n",
    "# To use the Sensory wake word engine, type -\n",
    "cd ~/Desktop/alexa-avs-sample-app/samples\n",
    "cd wakeWordAgent/src && ./wakeWordAgent -e sensory\n",
    "# or, type this to use KITT.AI's wake word engine -\n",
    "cd ~/Desktop/alexa-avs-sample-app/samples\n",
    "cd wakeWordAgent/src && ./wakeWordAgent -e kitt_ai\n",
    "\n",
    "# Finally, depending on the quality of your microphone \n",
    "alsamixer\n",
    "# To save the settings  \n",
    "sudo alsactl store "
   ]
  },
  {
   "cell_type": "markdown",
   "metadata": {},
   "source": [
    "### AVS SDK Sample App\n",
    "References\n",
    "- https://github.com/alexa/avs-device-sdk/wiki \n",
    "- https://github.com/alexa/avs-device-sdk/wiki/Raspberry-Pi-Quick-Start-Guide-with-Script \n",
    "\n",
    "- Implemented in C++\n",
    "- Replaces Java implementation\n",
    "\n",
    "Install: see references"
   ]
  },
  {
   "cell_type": "code",
   "execution_count": null,
   "metadata": {},
   "outputs": [],
   "source": [
    "# Run: run the Sample App: \n",
    "sudo bash startsample.sh\n",
    "# You can also run integration and unit tests: \n",
    "sudo bash test.sh"
   ]
  },
  {
   "cell_type": "markdown",
   "metadata": {},
   "source": [
    "## Adding Alexa Skills\n",
    "\n",
    "### Using Amazon Developer Workflow in Browser\n",
    "References:\n",
    "- Amazon Developer Docs ASK https://developer.amazon.com/docs/ask-overviews/build-skills-with-the-alexa-skills-kit.html\n",
    "\n",
    "Example Skill: Sechelt Information \n",
<<<<<<< HEAD
    "\n",
=======
>>>>>>> cd71ad844d0daad5ccba8479ec1c18c1801b01b4
    "- Build and Configure: https://developer.amazon.com/edw/home.html#/skill/amzn1.ask.skill.4c3fbe71-336e-448b-8c31-7cb8282df7df/en_CA/info \n",
    "- Test: https://developer.amazon.com/edw/home.html#/skill/amzn1.ask.skill.4c3fbe71-336e-448b-8c31-7cb8282df7df/en_CA/testing"
   ]
  },
  {
   "cell_type": "markdown",
   "metadata": {},
   "source": [
    "### Using Alexa Skills Kit in Command Line\n",
    "References:\n",
    "- Workflow to build skill https://github.com/alexa/skill-sample-nodejs-fact\n",
    "- AWS CLI https://docs.aws.amazon.com/cli/latest/userguide/cli-chap-welcome.html\n",
    "- Configue AWS and IAM roles https://docs.aws.amazon.com/IAM/latest/UserGuide/id_roles_use_switch-role-ec2_instance-profiles.html\n",
    "- AWS Identity and Access Management Console https://console.aws.amazon.com/iam/home?#/home\n",
    "- ASK Sample project https://github.com/alexa/skill-sample-nodejs-fact\n",
    "\n",
    "Example Skill: Space Facts \n",
    "1. Install and configure AWS CLI (Python)\n",
    "2. Install and configure ASK CLI (Node.JS)\n",
    "3. Create new, deploy and test new skill \n",
    "4. Build, Configure, Deploy in ASK CLI\n",
    "5. Dashboard https://developer.amazon.com/edw/home.html#/skill/amzn1.ask.skill.195f21da-e1a8-471e-8ef4-c5059c5af1b3/en_US/info\n",
    "6. Test: https://developer.amazon.com/edw/home.html#/skill/amzn1.ask.skill.195f21da-e1a8-471e-8ef4-c5059c5af1b3/en_US/testing\n"
   ]
  },
  {
   "cell_type": "code",
   "execution_count": null,
   "metadata": {},
   "outputs": [],
   "source": [
    "# install AWS CLI\n",
    "pip install awscli --upgrade --user\n",
    "pip3 install awscli --upgrade --user\n",
    "aws --version\n",
    "chmod +x ~/.local/bin/aws\n",
    "aws --version\n",
    "export PATH=~/.local/bin:$PATH\n",
    "aws --version\n",
    "\n",
    "# install ASK CLI: Needs a browser for authentication or use --no-brower option\n",
    "sudo npm install -g ask-cli\n",
    "\n",
    "more /home/alastair/.ask/cli_config\n",
    "ls /home/alastair/.ask/\n",
    "ask --help\n",
    "# List existing ASK profiles\n",
    "ask init -l\n",
    "# Initialize new ASK profile and associate with AWS profile\n",
    "ask init -p profile_2\n",
    "# Create a default skill \"Space Facts\"\n",
    "ask new -p profile_2\n",
    "# cd to the skill root directory\n",
    "ask deploy -p profile_2\n",
    "ask simulate --text \"Alexa, ask Space Facts\" --locale en-US --skill-id amzn1.ask.skill.195f21da-e1a8-471e-8ef4-c5059c5af1b3\n",
    "ask api list-vendors\n",
    "ask api list-vendors --debug\n"
   ]
  },
  {
   "cell_type": "markdown",
   "metadata": {},
   "source": [
    "\n",
    "## Emulating Wemo using FauxMo\n",
    "### to be completed"
   ]
  },
  {
   "cell_type": "markdown",
   "metadata": {},
   "source": [
    "## Further References"
   ]
  },
  {
   "cell_type": "code",
   "execution_count": null,
   "metadata": {},
   "outputs": [],
   "source": [
    "sudo git clone https://github.com/alexa/alexa-cookbook.git"
   ]
  }
 ],
 "metadata": {
  "kernelspec": {
   "display_name": "MetaKernel Bash",
   "language": "bash",
   "name": "metakernel_bash"
  },
  "language_info": {
   "file_extension": ".sh",
   "help_links": [
    {
     "text": "MetaKernel Magics",
     "url": "https://github.com/calysto/metakernel/blob/master/metakernel/magics/README.md"
    }
   ],
   "mimetype": "text/x-bash",
   "name": "bash"
  }
 },
 "nbformat": 4,
 "nbformat_minor": 2
}
